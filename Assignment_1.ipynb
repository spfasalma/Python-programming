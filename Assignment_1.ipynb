{
 "cells": [
  {
   "cell_type": "markdown",
   "metadata": {},
   "source": [
    "Write down a program to prompt the user for hours and rate per hour to compute gross pay\n",
    "\n",
    "Enter Hours:35\n",
    "Enter Rate:2.75\n",
    "Pay:96.25"
   ]
  },
  {
   "cell_type": "code",
   "execution_count": 14,
   "metadata": {},
   "outputs": [
    {
     "name": "stdout",
     "output_type": "stream",
     "text": [
      "Enter number of hours worked\n",
      "12\n",
      "Enter pay rate per hour\n",
      "3\n",
      "36\n"
     ]
    }
   ],
   "source": [
    "#we are computing for gross pay\n",
    "hours = int(input(\"Enter number of hours worked\\n\"))\n",
    "rate = int(input(\"Enter pay rate per hour\\n\"))\n",
    "print(hours * rate)\n"
   ]
  },
  {
   "cell_type": "code",
   "execution_count": null,
   "metadata": {},
   "outputs": [],
   "source": []
  }
 ],
 "metadata": {
  "kernelspec": {
   "display_name": "Python 3",
   "language": "python",
   "name": "python3"
  },
  "language_info": {
   "codemirror_mode": {
    "name": "ipython",
    "version": 3
   },
   "file_extension": ".py",
   "mimetype": "text/x-python",
   "name": "python",
   "nbconvert_exporter": "python",
   "pygments_lexer": "ipython3",
   "version": "3.7.3"
  }
 },
 "nbformat": 4,
 "nbformat_minor": 2
}
