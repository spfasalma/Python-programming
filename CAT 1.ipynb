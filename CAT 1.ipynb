{
 "cells": [
  {
   "cell_type": "markdown",
   "metadata": {},
   "source": [
    "### Name : REI SALMA"
   ]
  },
  {
   "cell_type": "code",
   "execution_count": null,
   "metadata": {},
   "outputs": [],
   "source": []
  },
  {
   "cell_type": "markdown",
   "metadata": {},
   "source": [
    "### Question 1"
   ]
  },
  {
   "cell_type": "markdown",
   "metadata": {},
   "source": [
    "Write a Python program that prompts the user for two numbers, reads them in, and prints out the product"
   ]
  },
  {
   "cell_type": "code",
   "execution_count": 11,
   "metadata": {},
   "outputs": [
    {
     "name": "stdout",
     "output_type": "stream",
     "text": [
      "Enter first Number:345\n",
      "Enter second Number:45\n",
      "15525\n"
     ]
    }
   ],
   "source": [
    "N1 = int(input(\"Enter first Number:\"))\n",
    "N2 = int(input(\"Enter second Number:\"))\n",
    "Prod = N1 * N2\n",
    "print(Prod)"
   ]
  },
  {
   "cell_type": "markdown",
   "metadata": {},
   "source": [
    "### Question 2"
   ]
  },
  {
   "cell_type": "markdown",
   "metadata": {},
   "source": [
    "Given a string s, write a short expression for a string that includes s repeated five times"
   ]
  },
  {
   "cell_type": "code",
   "execution_count": 14,
   "metadata": {},
   "outputs": [
    {
     "data": {
      "text/plain": [
       "str"
      ]
     },
     "execution_count": 14,
     "metadata": {},
     "output_type": "execute_result"
    }
   ],
   "source": [
    "s = \"s,s,s,s,s\"\n",
    "type(s)"
   ]
  },
  {
   "cell_type": "markdown",
   "metadata": {},
   "source": [
    "### Question 3"
   ]
  },
  {
   "cell_type": "markdown",
   "metadata": {},
   "source": [
    "Write a Python code to concatenate following dictionaries to create a new one.\n",
    "\n",
    "dic1={1:10, 2:20}\n",
    "\n",
    "dic2={3:30, 4:40}\n",
    "\n",
    "dic3={5:50,6:60}\n",
    "\n",
    "Expected Result : {1: 10, 2: 20, 3: 30, 4: 40, 5: 50, 6: 60}"
   ]
  },
  {
   "cell_type": "code",
   "execution_count": 74,
   "metadata": {},
   "outputs": [],
   "source": [
    "dic1={1:10, 2:20}\n",
    "dic2={3:30, 4:40}\n",
    "dic3={5:50,6:60}\n"
   ]
  },
  {
   "cell_type": "markdown",
   "metadata": {},
   "source": [
    "### Question 4"
   ]
  },
  {
   "cell_type": "markdown",
   "metadata": {},
   "source": [
    "Write a Python code to combine values in python list of dictionaries.\n",
    "\n",
    "Sample data: [{'item': 'item1', 'amount': 400}, {'item': 'item2', 'amount': 300}, {'item': 'item1', 'amount': 750}]\n",
    "\n",
    "Expected Output: Counter({'item1': 1150, 'item2': 300})"
   ]
  },
  {
   "cell_type": "markdown",
   "metadata": {},
   "source": []
  },
  {
   "cell_type": "code",
   "execution_count": 44,
   "metadata": {},
   "outputs": [
    {
     "data": {
      "text/plain": [
       "{'item1': 400, 'item2': 300, 'item3': 750, 'item4': 1150, 'item5': 4030}"
      ]
     },
     "execution_count": 44,
     "metadata": {},
     "output_type": "execute_result"
    }
   ],
   "source": [
    "sData = {}\n",
    "sData['item1'] = 400\n",
    "sData['item2'] = 300\n",
    "sData['item3'] = 750\n",
    "sData['item4'] = 1150\n",
    "sData['item5'] = 4030\n",
    "sData"
   ]
  },
  {
   "cell_type": "markdown",
   "metadata": {},
   "source": [
    "### Question 5"
   ]
  },
  {
   "cell_type": "markdown",
   "metadata": {},
   "source": [
    "Write a Python function to check whether a number is divisible by another number.\n",
    "\n",
    "Accept two integers values form the user."
   ]
  },
  {
   "cell_type": "code",
   "execution_count": 62,
   "metadata": {},
   "outputs": [
    {
     "name": "stdout",
     "output_type": "stream",
     "text": [
      "Enter first Number:77\n",
      "Enter second Number:7\n",
      "It is divisible\n",
      "11.0\n"
     ]
    }
   ],
   "source": [
    "Num1 = input('Enter first Number:')\n",
    "Num2 = input('Enter second Number:')\n",
    "Div = int(Num1) / int(Num2)\n",
    "if int(Num1) / int(Num2):\n",
    "    print('It is divisible')\n",
    "else:\n",
    "    print ('Number not divisible')\n",
    "print (Div)\n"
   ]
  },
  {
   "cell_type": "markdown",
   "metadata": {},
   "source": [
    "### Question 6"
   ]
  },
  {
   "cell_type": "markdown",
   "metadata": {},
   "source": [
    "Write a Python program to count the number of characters (character frequency) in a string. \n",
    "\n",
    "Sample String : google.com'\n",
    "\n",
    "Expected Result : {'o': 3, 'g': 2, '.': 1, 'e': 1, 'l': 1, 'm': 1, 'c': 1}"
   ]
  },
  {
   "cell_type": "code",
   "execution_count": 128,
   "metadata": {},
   "outputs": [
    {
     "name": "stdout",
     "output_type": "stream",
     "text": [
      "g:\n",
      "2\n",
      "o:\n",
      "3\n",
      "l:\n",
      "1\n",
      "e:\n",
      "1\n"
     ]
    },
    {
     "data": {
      "text/plain": [
       "(None, None)"
      ]
     },
     "execution_count": 128,
     "metadata": {},
     "output_type": "execute_result"
    }
   ],
   "source": [
    "letters= 'google.com'\n",
    "count = 0\n",
    "for letter in letters:\n",
    "    if letter == 'g':\n",
    "        count = count + 1\n",
    "print('g:'),print(count)\n",
    "count = 0\n",
    "for letter in letters:\n",
    "    if letter == 'o':\n",
    "        count = count + 1\n",
    "print('o:'),print(count)\n",
    "count = 0\n",
    "for letter in letters:\n",
    "    if letter == 'l':\n",
    "        count = count + 1\n",
    "print('l:'),print(count)\n",
    "count = 0\n",
    "for letter in letters:\n",
    "    if letter == 'e':\n",
    "        count = count + 1\n",
    "print('e:'),print(count)"
   ]
  },
  {
   "cell_type": "markdown",
   "metadata": {},
   "source": []
  },
  {
   "cell_type": "markdown",
   "metadata": {},
   "source": [
    "### Question 7"
   ]
  },
  {
   "cell_type": "markdown",
   "metadata": {},
   "source": [
    "Write a Python function that takes a list of words and returns the length of the longest one"
   ]
  },
  {
   "cell_type": "code",
   "execution_count": null,
   "metadata": {},
   "outputs": [],
   "source": [
    "fun()"
   ]
  },
  {
   "cell_type": "markdown",
   "metadata": {},
   "source": [
    "### Question 8"
   ]
  },
  {
   "cell_type": "markdown",
   "metadata": {},
   "source": [
    "Write a Python function that takes a string as an argument then returns a reverse of the string.\n",
    "\n",
    "Sample String : myReverse(\"1234abcd\")\n",
    "Expected Output : \"dcba4321\""
   ]
  },
  {
   "cell_type": "code",
   "execution_count": 137,
   "metadata": {},
   "outputs": [
    {
     "name": "stdout",
     "output_type": "stream",
     "text": [
      "['d', 'c', 'b', 'a', '4', '3', '2', '1']\n"
     ]
    }
   ],
   "source": [
    "q=\"1234abcd\"\n",
    "w = list(q)\n",
    "#print(w)\n",
    "w.reverse()\n",
    "print(w)"
   ]
  },
  {
   "cell_type": "markdown",
   "metadata": {},
   "source": [
    "### Question 9"
   ]
  },
  {
   "cell_type": "markdown",
   "metadata": {},
   "source": [
    "You have a list of words\n",
    "['apple', 'book', 'melon', 'applewatch', 'man', 'notebook', 'watch', 'water', 'super', 'watermelon', 'notebook', 'superman']\n",
    "\n",
    "Given this list\n",
    "['book', 'apple', 'notebook', 'note', 'applewatch', 'melon', 'watermelon']\n",
    "\n",
    "Print out all compound words in the list, the expected output should be something like this:\n",
    "['notebook', 'applewatch', 'watermelon']\n"
   ]
  },
  {
   "cell_type": "code",
   "execution_count": 32,
   "metadata": {},
   "outputs": [
    {
     "name": "stdout",
     "output_type": "stream",
     "text": [
      "0\n"
     ]
    }
   ],
   "source": [
    "lst = ['book', 'apple', 'notebook', 'note', 'applewatch', 'melon', 'watermelon']\n",
    "print ()"
   ]
  },
  {
   "cell_type": "markdown",
   "metadata": {},
   "source": [
    "### Question 10"
   ]
  },
  {
   "cell_type": "markdown",
   "metadata": {},
   "source": [
    "Write a Python program to convert a list of multiple integers into a single integer.\n",
    "\n",
    "Sample list: [11, 33, 50]\n",
    "    \n",
    "Expected Output: 113350"
   ]
  },
  {
   "cell_type": "code",
   "execution_count": 27,
   "metadata": {},
   "outputs": [
    {
     "name": "stdout",
     "output_type": "stream",
     "text": [
      "113350\n"
     ]
    }
   ],
   "source": [
    "q = 11\n",
    "w = 33\n",
    "e = 50\n",
    "Eout = str(q)+str(33)+str(e)\n",
    "print (Eout)"
   ]
  },
  {
   "cell_type": "markdown",
   "metadata": {},
   "source": [
    "### Question 11"
   ]
  },
  {
   "cell_type": "markdown",
   "metadata": {},
   "source": [
    "Given a string 'P a n a g s n j g d A M D', convert all the letter to uppercase the make a list of the characters. \n",
    "\n",
    "Output = ['P', 'A', 'N', 'A', 'G', 'S', 'N', 'J', 'G', 'D', 'A', 'M', 'D']"
   ]
  },
  {
   "cell_type": "code",
   "execution_count": 141,
   "metadata": {},
   "outputs": [
    {
     "name": "stdout",
     "output_type": "stream",
     "text": [
      "P A N A G S N J G D A M D\n",
      "['P A N A G S N J G D A M D']\n"
     ]
    }
   ],
   "source": [
    "string = 'P a n a g s n j g d A M D'\n",
    "Output = string.upper()\n",
    "print(Output)\n",
    "list1 = [Output]\n",
    "list2 = list(list1)\n",
    "print (list1)"
   ]
  },
  {
   "cell_type": "markdown",
   "metadata": {},
   "source": [
    "### Question 12"
   ]
  },
  {
   "cell_type": "markdown",
   "metadata": {},
   "source": [
    "Write a Python function that checks whether a passed string is palindrome or not. \n",
    "Note: A palindrome is a word, phrase, or sequence that reads the same backward as forward, e.g., madam or nurses run."
   ]
  },
  {
   "cell_type": "code",
   "execution_count": 73,
   "metadata": {},
   "outputs": [
    {
     "data": {
      "text/plain": [
       "'madam'"
      ]
     },
     "execution_count": 73,
     "metadata": {},
     "output_type": "execute_result"
    }
   ],
   "source": [
    "pal1 = ('madam')\n",
    "fo"
   ]
  },
  {
   "cell_type": "code",
   "execution_count": null,
   "metadata": {},
   "outputs": [],
   "source": []
  }
 ],
 "metadata": {
  "kernelspec": {
   "display_name": "Python 3",
   "language": "python",
   "name": "python3"
  },
  "language_info": {
   "codemirror_mode": {
    "name": "ipython",
    "version": 3
   },
   "file_extension": ".py",
   "mimetype": "text/x-python",
   "name": "python",
   "nbconvert_exporter": "python",
   "pygments_lexer": "ipython3",
   "version": "3.7.3"
  }
 },
 "nbformat": 4,
 "nbformat_minor": 2
}
