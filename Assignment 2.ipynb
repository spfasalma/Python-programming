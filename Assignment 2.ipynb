{
 "cells": [
  {
   "cell_type": "code",
   "execution_count": 1,
   "metadata": {},
   "outputs": [],
   "source": [
    "length=int(input('Enter length:\\n'))\n",
    "width=int(input('Enter width:\\n'))\n"
   ]
  },
  {
   "cell_type": "code",
   "execution_count": null,
   "metadata": {},
   "outputs": [],
   "source": [
    "a=int(input('Number a:'))\n",
    "b=int(input('Number b:'))\n",
    "if a > b :\n",
    "    print ('a')\n",
    "elif b > a:\n",
    "    print ('b')"
   ]
  },
  {
   "cell_type": "code",
   "execution_count": null,
   "metadata": {},
   "outputs": [],
   "source": [
    "\n",
    "S=int(input('What is your salary:\\n'))\n",
    "Y=int(input('What are your years of service:\\n'))\n",
    "if Y <= 5 :\n",
    "    print( S * 0.05)\n",
    "elif Y <=10:\n",
    "    print(S * 0.1)\n",
    "elif Y >= 10:\n",
    "    print(S * 15/100)"
   ]
  },
  {
   "cell_type": "code",
   "execution_count": null,
   "metadata": {},
   "outputs": [],
   "source": [
    "grade = int(input(\"What is your Grade?\")) \n",
    "if grade < 40:\n",
    "    print('Grade fail')\n",
    "elif grade < 50 :\n",
    "    print('D')\n",
    "elif grade < 60 :\n",
    "    print('C')\n",
    "elif grade < 70:\n",
    "    print('B')\n",
    "else :\n",
    "    print('A')"
   ]
  },
  {
   "cell_type": "code",
   "execution_count": 2,
   "metadata": {},
   "outputs": [
    {
     "ename": "SyntaxError",
     "evalue": "invalid syntax (<ipython-input-2-a6410c2a58d6>, line 4)",
     "output_type": "error",
     "traceback": [
      "\u001b[1;36m  File \u001b[1;32m\"<ipython-input-2-a6410c2a58d6>\"\u001b[1;36m, line \u001b[1;32m4\u001b[0m\n\u001b[1;33m    if q > w , e:\u001b[0m\n\u001b[1;37m             ^\u001b[0m\n\u001b[1;31mSyntaxError\u001b[0m\u001b[1;31m:\u001b[0m invalid syntax\n"
     ]
    }
   ],
   "source": [
    "q = int(input('Whats your age?'))\n",
    "w = int(input('Whats your age?'))\n",
    "e = int(input('Whats your age?'))\n",
    "if q > w , e:\n",
    "    print('The first user is the oldest')\n",
    "elif w > q,e:\n",
    "    print('The second user is the oldest')\n",
    "elif e > q,w:\n",
    "    print('The last user is the oldest')"
   ]
  },
  {
   "cell_type": "code",
   "execution_count": null,
   "metadata": {},
   "outputs": [],
   "source": []
  },
  {
   "cell_type": "code",
   "execution_count": null,
   "metadata": {},
   "outputs": [],
   "source": []
  },
  {
   "cell_type": "code",
   "execution_count": null,
   "metadata": {},
   "outputs": [
    {
     "name": "stdout",
     "output_type": "stream",
     "text": [
      "What are the number of classes held?\n",
      "20\n"
     ]
    }
   ],
   "source": [
    "C_Held = int(input('What are the number of classes held?\\n'))\n",
    "C_Att = int(input('What are the numer of classes you attended?\\n'))\n",
    "print (C_Att/C_Held * 100)\n",
    "if C_Att/C_Held * 100 > 75:\n",
    "    print('You are allowed to take the exam')\n",
    "elif C_Att/C_Held * 100 < 75 :\n",
    "    print ('You are not allowed to take this unit exam!')\n",
    "    \n",
    "#if C_Att/C_Held * 100 < 75\n",
    "#Sick = int(input('Or do you have any medical condition?(Y=Yes N=No)'))\n",
    "#if Sick = Y:\n",
    "   # print('You will be exempted and are allowed to undertake the exam')\n",
    "#elif Sick = N:\n",
    "   # print('You are still not allowed to undertake the exam!!')\n"
   ]
  },
  {
   "cell_type": "code",
   "execution_count": null,
   "metadata": {},
   "outputs": [],
   "source": []
  }
 ],
 "metadata": {
  "kernelspec": {
   "display_name": "Python 3",
   "language": "python",
   "name": "python3"
  },
  "language_info": {
   "codemirror_mode": {
    "name": "ipython",
    "version": 3
   },
   "file_extension": ".py",
   "mimetype": "text/x-python",
   "name": "python",
   "nbconvert_exporter": "python",
   "pygments_lexer": "ipython3",
   "version": "3.7.3"
  }
 },
 "nbformat": 4,
 "nbformat_minor": 2
}
